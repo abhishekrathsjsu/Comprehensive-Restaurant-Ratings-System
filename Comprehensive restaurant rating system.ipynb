{
 "cells": [
  {
   "cell_type": "code",
   "execution_count": 48,
   "metadata": {
    "scrolled": true
   },
   "outputs": [
    {
     "name": "stderr",
     "output_type": "stream",
     "text": [
      "C:\\Users\\sdrsh\\Anaconda3\\lib\\site-packages\\IPython\\core\\interactiveshell.py:3020: DtypeWarning: Columns (2,4,6,8) have mixed types. Specify dtype option on import or set low_memory=False.\n",
      "  interactivity=interactivity, compiler=compiler, result=result)\n"
     ]
    },
    {
     "data": {
      "text/html": [
       "<div>\n",
       "<style scoped>\n",
       "    .dataframe tbody tr th:only-of-type {\n",
       "        vertical-align: middle;\n",
       "    }\n",
       "\n",
       "    .dataframe tbody tr th {\n",
       "        vertical-align: top;\n",
       "    }\n",
       "\n",
       "    .dataframe thead th {\n",
       "        text-align: right;\n",
       "    }\n",
       "</style>\n",
       "<table border=\"1\" class=\"dataframe\">\n",
       "  <thead>\n",
       "    <tr style=\"text-align: right;\">\n",
       "      <th></th>\n",
       "      <th>unnamed</th>\n",
       "      <th>business_id</th>\n",
       "      <th>cool</th>\n",
       "      <th>date</th>\n",
       "      <th>funny</th>\n",
       "      <th>review_id</th>\n",
       "      <th>stars</th>\n",
       "      <th>text</th>\n",
       "      <th>useful</th>\n",
       "      <th>user_id</th>\n",
       "    </tr>\n",
       "  </thead>\n",
       "  <tbody>\n",
       "    <tr>\n",
       "      <th>0</th>\n",
       "      <td>NaN</td>\n",
       "      <td>business_id</td>\n",
       "      <td>cool</td>\n",
       "      <td>date</td>\n",
       "      <td>funny</td>\n",
       "      <td>review_id</td>\n",
       "      <td>stars</td>\n",
       "      <td>text</td>\n",
       "      <td>useful</td>\n",
       "      <td>user_id</td>\n",
       "    </tr>\n",
       "    <tr>\n",
       "      <th>1</th>\n",
       "      <td>0.0</td>\n",
       "      <td>ikCg8xy5JIg_NGPx-MSIDA</td>\n",
       "      <td>0.0</td>\n",
       "      <td>2018-01-09 20:56:38</td>\n",
       "      <td>0.0</td>\n",
       "      <td>yi0R0Ugj_xUx_Nek0-_Qig</td>\n",
       "      <td>5.0</td>\n",
       "      <td>Went in for a lunch. Steak sandwich was delici...</td>\n",
       "      <td>0.0</td>\n",
       "      <td>dacAIZ6fTM6mqwW5uxkskg</td>\n",
       "    </tr>\n",
       "    <tr>\n",
       "      <th>2</th>\n",
       "      <td>1.0</td>\n",
       "      <td>eU_713ec6fTGNO4BegRaww</td>\n",
       "      <td>0.0</td>\n",
       "      <td>2013-01-20 13:25:59</td>\n",
       "      <td>0.0</td>\n",
       "      <td>fdiNeiN_hoCxCMy2wTRW9g</td>\n",
       "      <td>4.0</td>\n",
       "      <td>I'll be the first to admit that I was not exci...</td>\n",
       "      <td>0.0</td>\n",
       "      <td>w31MKYsNFMrjhWxxAb5wIw</td>\n",
       "    </tr>\n",
       "    <tr>\n",
       "      <th>3</th>\n",
       "      <td>2.0</td>\n",
       "      <td>3fw2X5bZYeW9xCz_zGhOHg</td>\n",
       "      <td>5.0</td>\n",
       "      <td>2016-05-07 01:21:02</td>\n",
       "      <td>4.0</td>\n",
       "      <td>G7XHMxG0bx9oBJNECG4IFg</td>\n",
       "      <td>3.0</td>\n",
       "      <td>Tracy dessert had a big name in Hong Kong and ...</td>\n",
       "      <td>5.0</td>\n",
       "      <td>jlu4CztcSxrKx56ba1a5AQ</td>\n",
       "    </tr>\n",
       "    <tr>\n",
       "      <th>4</th>\n",
       "      <td>3.0</td>\n",
       "      <td>zvO-PJCpNk4fgAVUnExYAA</td>\n",
       "      <td>1.0</td>\n",
       "      <td>2010-10-05 19:12:35</td>\n",
       "      <td>1.0</td>\n",
       "      <td>8e9HxxLjjqc9ez5ezzN7iQ</td>\n",
       "      <td>1.0</td>\n",
       "      <td>This place has gone down hill.  Clearly they h...</td>\n",
       "      <td>3.0</td>\n",
       "      <td>d6xvYpyzcfbF_AZ8vMB7QA</td>\n",
       "    </tr>\n",
       "  </tbody>\n",
       "</table>\n",
       "</div>"
      ],
      "text/plain": [
       "   unnamed             business_id  cool                 date  funny  \\\n",
       "0      NaN             business_id  cool                 date  funny   \n",
       "1      0.0  ikCg8xy5JIg_NGPx-MSIDA   0.0  2018-01-09 20:56:38    0.0   \n",
       "2      1.0  eU_713ec6fTGNO4BegRaww   0.0  2013-01-20 13:25:59    0.0   \n",
       "3      2.0  3fw2X5bZYeW9xCz_zGhOHg   5.0  2016-05-07 01:21:02    4.0   \n",
       "4      3.0  zvO-PJCpNk4fgAVUnExYAA   1.0  2010-10-05 19:12:35    1.0   \n",
       "\n",
       "                review_id  stars  \\\n",
       "0               review_id  stars   \n",
       "1  yi0R0Ugj_xUx_Nek0-_Qig    5.0   \n",
       "2  fdiNeiN_hoCxCMy2wTRW9g    4.0   \n",
       "3  G7XHMxG0bx9oBJNECG4IFg    3.0   \n",
       "4  8e9HxxLjjqc9ez5ezzN7iQ    1.0   \n",
       "\n",
       "                                                text  useful  \\\n",
       "0                                               text  useful   \n",
       "1  Went in for a lunch. Steak sandwich was delici...     0.0   \n",
       "2  I'll be the first to admit that I was not exci...     0.0   \n",
       "3  Tracy dessert had a big name in Hong Kong and ...     5.0   \n",
       "4  This place has gone down hill.  Clearly they h...     3.0   \n",
       "\n",
       "                  user_id  \n",
       "0                 user_id  \n",
       "1  dacAIZ6fTM6mqwW5uxkskg  \n",
       "2  w31MKYsNFMrjhWxxAb5wIw  \n",
       "3  jlu4CztcSxrKx56ba1a5AQ  \n",
       "4  d6xvYpyzcfbF_AZ8vMB7QA  "
      ]
     },
     "execution_count": 48,
     "metadata": {},
     "output_type": "execute_result"
    }
   ],
   "source": [
    "import json\n",
    "import matplotlib.pyplot as plt\n",
    "import seaborn as sns\n",
    "#File Path\n",
    "review_file = 'C:/Users/sdrsh/Videos/yelp_dataset/reviews.csv'\n",
    "import pandas as pd\n",
    "#Columns to extract\n",
    "columnnames = ['unnamed','business_id','cool','date','funny','review_id', 'stars','text','useful','user_id']\n",
    "csv_file = pd.DataFrame(pd.read_csv(review_file,names=columnnames))\n",
    "#Extracting texts and stars fileld remotely and store it to a list\n",
    "texts = csv_file.text.tolist()\n",
    "stars = csv_file.stars.tolist()\n",
    "#Converting string elements in the star list to value\n",
    "for i in range(len(stars)):\n",
    "    if type(stars[i]) == str:\n",
    "        stars[i] = eval(stars[i])\n",
    "#stars=eval(stars)\n",
    "stars.pop(0)\n",
    "texts.pop(0)\n",
    "csv_file.head(5)"
   ]
  },
  {
   "cell_type": "code",
   "execution_count": 49,
   "metadata": {},
   "outputs": [
    {
     "name": "stdout",
     "output_type": "stream",
     "text": [
      "5.0\n",
      "4.0\n",
      "3.0\n",
      "1.0\n"
     ]
    }
   ],
   "source": [
    "for i in range(0,4):\n",
    "    print(stars[i])"
   ]
  },
  {
   "cell_type": "code",
   "execution_count": 50,
   "metadata": {},
   "outputs": [
    {
     "name": "stdout",
     "output_type": "stream",
     "text": [
      "This place has gone down hill.  Clearly they have cut back on staff and food quality\n",
      "\n",
      "Many of the reviews were written before the menu changed.  I've been going for years and the food quality has gone down hill.\n",
      "\n",
      "The service is slow & my salad, which was $15, was as bad as it gets.\n",
      "\n",
      "It's just not worth spending the money on this place when there are so many other options.\n",
      "--------------------------------------------->\n",
      "This place has gone down hill.  Clearly they have cut back on staff and food quality\n",
      "\n",
      "Many of the reviews were written before the menu changed.  I've been going for years and the food quality has gone down hill.\n",
      "\n",
      "The service is slow & my salad, which was $15, was as bad as it gets.\n",
      "\n",
      "It's just not worth spending the money on this place when there are so many other options.\n",
      "--------------------------------------------->\n",
      "This place has gone down hill.  Clearly they have cut back on staff and food quality\n",
      "\n",
      "Many of the reviews were written before the menu changed.  I've been going for years and the food quality has gone down hill.\n",
      "\n",
      "The service is slow & my salad, which was $15, was as bad as it gets.\n",
      "\n",
      "It's just not worth spending the money on this place when there are so many other options.\n",
      "--------------------------------------------->\n",
      "This place has gone down hill.  Clearly they have cut back on staff and food quality\n",
      "\n",
      "Many of the reviews were written before the menu changed.  I've been going for years and the food quality has gone down hill.\n",
      "\n",
      "The service is slow & my salad, which was $15, was as bad as it gets.\n",
      "\n",
      "It's just not worth spending the money on this place when there are so many other options.\n",
      "--------------------------------------------->\n"
     ]
    }
   ],
   "source": [
    "for j in range(0,4):\n",
    "    print(texts[i])\n",
    "    print('--------------------------------------------->')"
   ]
  },
  {
   "cell_type": "code",
   "execution_count": 51,
   "metadata": {},
   "outputs": [],
   "source": [
    "from collections import Counter\n",
    "#Sorting the list by number of star counts\n",
    "def balance_classes(text, star):\n",
    "    sorted_stars = Counter(star)\n",
    "\n",
    "    #The data is unbalanced, this may lead to biased classification, finding the stars with least occurance count\n",
    "    minimum_star_count = sorted_stars.most_common()[-1][1]\n",
    "    #initialize the value field to zero\n",
    "    num_added = {clss: 0 for clss in sorted_stars.keys()}\n",
    "    new_stars = []\n",
    "    new_texts = []\n",
    "    #loop to balance the list based on least star count\n",
    "    for i, y in enumerate(star):\n",
    "        if num_added[y] < minimum_star_count:\n",
    "            new_stars.append(y)\n",
    "            new_texts.append(text[i])\n",
    "            num_added[y] += 1\n",
    "    return new_texts, new_stars\n"
   ]
  },
  {
   "cell_type": "code",
   "execution_count": 52,
   "metadata": {},
   "outputs": [
    {
     "name": "stderr",
     "output_type": "stream",
     "text": [
      "C:\\Users\\sdrsh\\Anaconda3\\lib\\site-packages\\scipy\\stats\\stats.py:1713: FutureWarning: Using a non-tuple sequence for multidimensional indexing is deprecated; use `arr[tuple(seq)]` instead of `arr[seq]`. In the future this will be interpreted as an array index, `arr[np.array(seq)]`, which will result either in an error or a different result.\n",
      "  return np.add.reduce(sorted[indexer] * weights, axis=axis) / sumval\n"
     ]
    },
    {
     "data": {
      "image/png": "[encoded data removed]",
      "text/plain": [
       "<Figure size 792x432 with 1 Axes>"
      ]
     },
     "metadata": {
      "needs_background": "light"
     },
     "output_type": "display_data"
    },
    {
     "name": "stdout",
     "output_type": "stream",
     "text": [
      "Counter({5.0: 64894, 4.0: 42942, 3.0: 21970, 1.0: 18972, 2.0: 15267})\n"
     ]
    }
   ],
   "source": [
    "fig = plt.figure(figsize=(11,6))\n",
    "#Plotting the occurance of the stars\n",
    "Stars=Counter(stars)\n",
    "index = [i for i in Stars.elements()]\n",
    "values = [Stars[i] for i in Stars.elements()]\n",
    "sns.barplot(index, values, palette=sns.color_palette(\"RdBu_r\", len(Stars)))\n",
    "plt.xlabel('Rating')\n",
    "plt.ylabel('Number of reviews')\n",
    "plt.title('Ratings')\n",
    "\n",
    "plt.show()\n",
    "print(Counter(stars))"
   ]
  },
  {
   "cell_type": "code",
   "execution_count": 53,
   "metadata": {},
   "outputs": [
    {
     "data": {
      "image/png": "[encoded data removed]",
      "text/plain": [
       "<Figure size 792x432 with 1 Axes>"
      ]
     },
     "metadata": {
      "needs_background": "light"
     },
     "output_type": "display_data"
    },
    {
     "name": "stdout",
     "output_type": "stream",
     "text": [
      "Counter({5.0: 15267, 4.0: 15267, 3.0: 15267, 1.0: 15267, 2.0: 15267})\n"
     ]
    }
   ],
   "source": [
    "balanced_text, balanced_star = balance_classes(texts, stars)\n",
    "fig = plt.figure(figsize=(11,6))\n",
    "#to plot the balanced star counts\n",
    "Balanced_Stars=Counter(balanced_star)\n",
    "index = [i for i in Balanced_Stars.elements()]\n",
    "values = [Balanced_Stars[i] for i in Balanced_Stars.elements()]\n",
    "sns.barplot(index, values, palette=sns.color_palette(\"RdBu_r\", len(Stars)))\n",
    "for i,v in enumerate(Balanced_Stars):\n",
    "    plt.text(i,v*1.02, str(v),horizontalalignment='center',fontweight='bold',fontsize=14)\n",
    "\n",
    "plt.xlabel('Rating')\n",
    "plt.ylabel('Number of reviews')\n",
    "plt.title('Balanced RatingsRatings')\n",
    "\n",
    "plt.show()\n",
    "print(Counter(balanced_star))"
   ]
  },
  {
   "cell_type": "code",
   "execution_count": 54,
   "metadata": {},
   "outputs": [],
   "source": [
    "from sklearn.feature_extraction.text import TfidfVectorizer\n",
    "# Using tfidf vectorizer to convert text data to single words and bi-grams \n",
    "tfidfvectorizer = TfidfVectorizer(ngram_range=(1,2))\n",
    " \n",
    "# Fitting the words and transforming the textual data to vector values in a multi dimentional array\n",
    "vectors_values = tfidfvectorizer.fit_transform(balanced_text)"
   ]
  },
  {
   "cell_type": "code",
   "execution_count": 55,
   "metadata": {},
   "outputs": [
    {
     "name": "stdout",
     "output_type": "stream",
     "text": [
      "[1.0, 2.0, 2.0, 1.0, 1.0]\n",
      "[1.0, 2.0, 1.0, 1.0, 2.0]\n"
     ]
    },
    {
     "data": {
      "image/png": "[encoded data removed]",
      "text/plain": [
       "<Figure size 720x640 with 1 Axes>"
      ]
     },
     "metadata": {},
     "output_type": "display_data"
    }
   ],
   "source": [
    "from sklearn.model_selection import train_test_split\n",
    "#Splitting test and train set with 20% and 80% of data\n",
    "X_train, X_test, y_train, y_test = train_test_split(vectors_values, balanced_star, test_size=0.2, random_state=42)\n",
    "\n",
    "from sklearn.svm import LinearSVC\n",
    "import numpy as np \n",
    "#Using SVM classifier with default kernal\n",
    "SVMclassifier = LinearSVC()\n",
    " \n",
    "# train the classifier\n",
    "SVMclassifier.fit(X_train, y_train)\n",
    "#Predict the test to verify\n",
    "predict = SVMclassifier.predict(X_test)\n",
    "predict_list=list(predict[:5])\n",
    "y_test_plot=y_test[:5]\n",
    "print(list(predict[:5]))\n",
    "print(y_test[:5])\n",
    "fig = plt.figure(figsize=(9, 8), dpi= 80, facecolor='w', edgecolor='k')\n",
    "#Plotting test vs training set\n",
    "x_range = np.arange(5)\n",
    "width = 0.25\n",
    "\n",
    "plt.bar(x_range+1, predict_list, width)\n",
    "plt.bar(x_range+1 + width, y_test_plot, width)\n",
    "\n",
    "\n",
    "plt.xlabel('Rating')\n",
    "plt.ylabel('Number of reviews')\n",
    "plt.title('SVM VS reviewer rating')\n",
    "plt.legend(['SVM prediction of rating', 'The reviewer rating'])\n",
    "\n",
    "plt.show()"
   ]
  },
  {
   "cell_type": "code",
   "execution_count": 56,
   "metadata": {},
   "outputs": [
    {
     "name": "stdout",
     "output_type": "stream",
     "text": [
      "0.5896377808344796\n"
     ]
    }
   ],
   "source": [
    "from sklearn.metrics import accuracy_score\n",
    "#Prnting the accuracy of prediction\n",
    "print(accuracy_score(y_test, predict))"
   ]
  },
  {
   "cell_type": "code",
   "execution_count": 57,
   "metadata": {},
   "outputs": [
    {
     "name": "stdout",
     "output_type": "stream",
     "text": [
      "              precision    recall  f1-score   support\n",
      "\n",
      "         1.0       0.67      0.76      0.71      3048\n",
      "         2.0       0.51      0.46      0.49      3025\n",
      "         3.0       0.54      0.48      0.51      3144\n",
      "         4.0       0.52      0.50      0.51      3003\n",
      "         5.0       0.68      0.74      0.71      3047\n",
      "\n",
      "   micro avg       0.59      0.59      0.59     15267\n",
      "   macro avg       0.58      0.59      0.58     15267\n",
      "weighted avg       0.58      0.59      0.58     15267\n",
      "\n",
      "12\n",
      "         1.0       0.67      0.76      0.71      3048\n",
      "[0.67, 0.76, 0.71]\n",
      "         2.0       0.51      0.46      0.49      3025\n",
      "[0.51, 0.46, 0.49]\n",
      "         3.0       0.54      0.48      0.51      3144\n",
      "[0.54, 0.48, 0.51]\n",
      "         4.0       0.52      0.50      0.51      3003\n",
      "[0.52, 0.5, 0.51]\n",
      "         5.0       0.68      0.74      0.71      3047\n",
      "[0.68, 0.74, 0.71]\n"
     ]
    },
    {
     "data": {
      "image/png": "[encoded data removed]",
      "text/plain": [
       "<Figure size 432x288 with 2 Axes>"
      ]
     },
     "metadata": {
      "needs_background": "light"
     },
     "output_type": "display_data"
    }
   ],
   "source": [
    "from sklearn.metrics import classification_report\n",
    "print(classification_report(y_test, predict))\n",
    "#Classification report for better visualization of output\n",
    "def plot_classification_report(cr, title='Classification report ', with_avg_total=False, cmap=plt.cm.Blues):\n",
    "#Printing classification report in graphical form\n",
    "    lines = cr.split('\\n')\n",
    "\n",
    "    classes = []\n",
    "    plotMat = []\n",
    "    print(len(lines))\n",
    "    for line in lines[2 : (len(lines) - 5)]:\n",
    "        print(line)\n",
    "        t = line.split()\n",
    "        # print t\n",
    "        classes.append(t[0])\n",
    "        v = [float(x) for x in t[1: len(t) - 1]]\n",
    "        print(v)\n",
    "        plotMat.append(v)\n",
    "\n",
    "    if with_avg_total:\n",
    "        aveTotal = lines[len(lines) - 1].split()\n",
    "        classes.append('avg/total')\n",
    "        vAveTotal = [float(x) for x in t[1:len(aveTotal) - 1]]\n",
    "        plotMat.append(vAveTotal)\n",
    "\n",
    "\n",
    "    plt.imshow(plotMat, interpolation='nearest', cmap=cmap)\n",
    "    plt.title(title)\n",
    "    plt.colorbar()\n",
    "    x_tick_marks = np.arange(3)\n",
    "    y_tick_marks = np.arange(len(classes))\n",
    "    plt.xticks(x_tick_marks, ['precision', 'recall', 'f1-score'], rotation=45)\n",
    "    plt.yticks(y_tick_marks, classes)\n",
    "    plt.tight_layout()\n",
    "    plt.ylabel('Classes')\n",
    "    plt.xlabel('Measures')\n",
    "sampleClassificationReport=classification_report(y_test, predict)\n",
    "plot_classification_report(sampleClassificationReport)\n"
   ]
  },
  {
   "cell_type": "code",
   "execution_count": 58,
   "metadata": {},
   "outputs": [
    {
     "name": "stdout",
     "output_type": "stream",
     "text": [
      "[[2328  577  104   17   22]\n",
      " [ 865 1403  597  112   48]\n",
      " [ 198  646 1511  631  158]\n",
      " [  38   99  511 1505  850]\n",
      " [  38   25   79  650 2255]]\n"
     ]
    }
   ],
   "source": [
    "from sklearn.metrics import confusion_matrix\n",
    "#Printing confustion matrix\n",
    "print(confusion_matrix(y_test, predict))"
   ]
  },
  {
   "cell_type": "code",
   "execution_count": 59,
   "metadata": {},
   "outputs": [],
   "source": [
    "#Considering 1,2,4 and 5 star for classification. 1 and 2 means negative, 4 and 5 means positive\n",
    "reduced = set([1,2,4,5])"
   ]
  },
  {
   "cell_type": "code",
   "execution_count": 60,
   "metadata": {},
   "outputs": [
    {
     "name": "stdout",
     "output_type": "stream",
     "text": [
      "              precision    recall  f1-score   support\n",
      "\n",
      "           n       0.96      0.95      0.95      6073\n",
      "           p       0.95      0.95      0.95      6050\n",
      "\n",
      "   micro avg       0.95      0.95      0.95     12123\n",
      "   macro avg       0.95      0.95      0.95     12123\n",
      "weighted avg       0.95      0.95      0.95     12123\n",
      "\n"
     ]
    }
   ],
   "source": [
    "#Getting train and test set for stars\n",
    "reduced_train_is = [i for i, y in enumerate(y_train) if y in reduced]\n",
    "reduced_test_is = [i for i, y in enumerate(y_test) if y in reduced]\n",
    " \n",
    "# convert the train set\n",
    "X_train2 = X_train[reduced_train_is, :]\n",
    "y_train2 = [y_train[i] for i in reduced_train_is]\n",
    "#If star is 1 or 2 then negative else positive\n",
    "y_train2 = [\"n\" if (y == 1 or y == 2) else \"p\" for y in y_train2]\n",
    " \n",
    "# convert the test set\n",
    "X_test2 = X_test[reduced_test_is, :]\n",
    "y_test2 = [y_test[i] for i in reduced_test_is]\n",
    "#If star is 1 or 2 then negative else positive\n",
    "y_test2 = [\"n\" if (y == 1 or y == 2) else \"p\" for y in y_test2]\n",
    "#Fit the data for prediction\n",
    "classifier.fit(X_train2, y_train2)\n",
    "preds = classifier.predict(X_test2)\n",
    "print(classification_report(y_test2, preds))"
   ]
  },
  {
   "cell_type": "code",
   "execution_count": 64,
   "metadata": {},
   "outputs": [],
   "source": [
    "vectorized = tfidfvectorizer.transform(texts)"
   ]
  },
  {
   "cell_type": "code",
   "execution_count": 65,
   "metadata": {},
   "outputs": [
    {
     "name": "stdout",
     "output_type": "stream",
     "text": [
      "['p' 'p' 'p' ... 'p' 'n' 'p']\n"
     ]
    }
   ],
   "source": [
    "print(classifier.predict(vectorized))"
   ]
  },
  {
   "cell_type": "code",
   "execution_count": 67,
   "metadata": {},
   "outputs": [
    {
     "name": "stdout",
     "output_type": "stream",
     "text": [
      "0.9548791553245897\n"
     ]
    }
   ],
   "source": [
    "print(accuracy_score(y_test2, preds))"
   ]
  },
  {
   "cell_type": "code",
   "execution_count": null,
   "metadata": {},
   "outputs": [],
   "source": []
  }
 ],
 "metadata": {
  "kernelspec": {
   "display_name": "Python 3",
   "language": "python",
   "name": "python3"
  },
  "language_info": {
   "codemirror_mode": {
    "name": "ipython",
    "version": 3
   },
   "file_extension": ".py",
   "mimetype": "text/x-python",
   "name": "python",
   "nbconvert_exporter": "python",
   "pygments_lexer": "ipython3",
   "version": "3.7.1"
  }
 },
 "nbformat": 4,
 "nbformat_minor": 2
}
