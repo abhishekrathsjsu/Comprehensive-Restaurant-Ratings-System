{
 "cells": [
  {
   "cell_type": "code",
   "execution_count": null,
   "metadata": {},
   "outputs": [],
   "source": [
    "import json\n",
    "\n",
    "reviewData = pd.DataFrame()\n",
    "restaurantIDs = restaurantData['business_id'].tolist()\n",
    "i = 0\n",
    "with open('yelp_dataset/review.json') as f:\n",
    "    for line in f:\n",
    "        print(i)\n",
    "        record = json.loads(line)\n",
    "        if record['business_id'] in restaurantIDs:\n",
    "            reviewData = reviewData.append(record, ignore_index=True)\n",
    "        i += 1"
   ]
  }
 ],
 "metadata": {
  "kernelspec": {
   "display_name": "Python 3",
   "language": "python",
   "name": "python3"
  },
  "language_info": {
   "codemirror_mode": {
    "name": "ipython",
    "version": 3
   },
   "file_extension": ".py",
   "mimetype": "text/x-python",
   "name": "python",
   "nbconvert_exporter": "python",
   "pygments_lexer": "ipython3",
   "version": "3.7.1"
  }
 },
 "nbformat": 4,
 "nbformat_minor": 2
}
